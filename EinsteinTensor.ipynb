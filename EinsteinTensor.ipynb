{
 "cells": [
  {
   "cell_type": "code",
   "execution_count": 1,
   "id": "f19938d5-2c01-4b19-88ed-dd62a61007e6",
   "metadata": {},
   "outputs": [],
   "source": [
    "import sympy\n",
    "from sympy import *\n",
    "from sympy.tensor.array import MutableSparseNDimArray as n_array\n",
    "import numpy as np"
   ]
  },
  {
   "cell_type": "code",
   "execution_count": 2,
   "id": "b3fc882f-4cbf-45fc-86ca-997cf3b08c8b",
   "metadata": {},
   "outputs": [],
   "source": [
    "num_vars = 4 # can set to an arbitrary dimension\n",
    "\n",
    "t,r,θ,φ = symbols('t r θ φ')\n",
    "vars = [t,r,θ,φ] # REMEMBER TO CHANGE THIS\n",
    "\n",
    "a = Function('a')(r,t)\n",
    "b = Function('b')(r,t)"
   ]
  },
  {
   "cell_type": "code",
   "execution_count": 3,
   "id": "7b710b9c-b9bd-47b7-a9ab-2fa52eeb68b0",
   "metadata": {},
   "outputs": [],
   "source": [
    "# Input the metric here; Variables can be entered by indexing the array \"x\". The time t can be entered simply using \"t\"\n",
    "\n",
    "metric = Matrix([[-exp(a),0,0,0],\n",
    "                [0,exp(b),0,0],\n",
    "                [0,0,r**2,0],\n",
    "                [0,0,0,r**2 * sin(θ)**2]])\n",
    "\n",
    "metric_inv = metric.inv() # Take inverse of metric\n",
    "\n",
    "christoffel_symbols = n_array([], shape=(num_vars,num_vars,num_vars))\n",
    "for lambda_ in range(len(vars)):\n",
    "    for mu in range(len(vars)):\n",
    "        for nu in range(len(vars)):\n",
    "            summed = 0\n",
    "            for sigma in range(len(vars)):\n",
    "                summed += 0.5 * metric_inv[lambda_, sigma] * (simplify(diff(metric[nu,sigma], vars[mu])) + simplify(diff(metric[sigma, mu], vars[nu])) - simplify(diff(metric[mu, nu], vars[sigma])))\n",
    "            christoffel_symbols[lambda_, mu, nu] = simplify(summed)\n",
    "\n",
    "riemann_tensor = n_array([], shape=(num_vars,num_vars,num_vars,num_vars))\n",
    "for rho in range(len(vars)):\n",
    "    for sigma in range(len(vars)):\n",
    "        for mu in range(len(vars)):\n",
    "            for nu in range(len(vars)):\n",
    "                summed_component_1 = 0\n",
    "                summed_component_2 = 0\n",
    "                \n",
    "                for lambda_ in range(len(vars)):\n",
    "                    summed_component_1 += simplify(christoffel_symbols[rho, mu, lambda_] * christoffel_symbols[lambda_, nu, sigma])\n",
    "                    summed_component_2 += simplify(christoffel_symbols[rho, nu, lambda_] * christoffel_symbols[lambda_, mu, sigma])\n",
    "                riemann_tensor[rho,sigma,mu,nu] = simplify(simplify(diff(christoffel_symbols[rho, nu, sigma], vars[mu])) - simplify(diff(christoffel_symbols[rho, mu, sigma], vars[nu])) + simplify(summed_component_1) - simplify(summed_component_2)) \n",
    "\n",
    "ricci_tensor = n_array([], shape=(num_vars, num_vars))\n",
    "for mu in range(len(vars)):\n",
    "    for nu in range(len(vars)):\n",
    "        for lambda_ in range(len(vars)):\n",
    "            ricci_tensor[mu, nu] += riemann_tensor[lambda_, mu, lambda_, nu]\n",
    "            ricci_tensor[mu, nu] = simplify(ricci_tensor[mu,nu])\n",
    "\n",
    "ricci_scalar = 0\n",
    "for mu in range(len(vars)):\n",
    "    for nu in range(len(vars)):\n",
    "        ricci_scalar += ricci_tensor[mu,nu] * metric_inv[mu,nu]\n",
    "ricci_scalar = simplify(ricci_scalar)\n",
    "\n",
    "einstein_tensor = n_array([], (num_vars, num_vars))\n",
    "for mu in range(len(vars)):\n",
    "    for nu in range(len(vars)):\n",
    "        einstein_tensor[mu,nu] = factor(cancel(expand(ricci_tensor[mu,nu] - 0.5 * ricci_scalar * metric[mu,nu])))\n"
   ]
  },
  {
   "cell_type": "code",
   "execution_count": 4,
   "id": "bf0325e5-7753-493c-b449-9ac1f729b63b",
   "metadata": {},
   "outputs": [
    {
     "data": {
      "text/latex": [
       "$\\displaystyle \\left[\\begin{matrix}\\frac{1.0 \\left(r \\frac{\\partial}{\\partial r} b{\\left(r,t \\right)} + e^{b{\\left(r,t \\right)}} - 1\\right) e^{a{\\left(r,t \\right)}} e^{- b{\\left(r,t \\right)}}}{r^{2}} & \\frac{1.0 \\frac{\\partial}{\\partial t} b{\\left(r,t \\right)}}{r} & 0 & 0\\\\\\frac{1.0 \\frac{\\partial}{\\partial t} b{\\left(r,t \\right)}}{r} & \\frac{1.0 \\left(r \\frac{\\partial}{\\partial r} a{\\left(r,t \\right)} - e^{b{\\left(r,t \\right)}} + 1\\right)}{r^{2}} & 0 & 0\\\\0 & 0 & 0.5 r \\left(0.5 r e^{a{\\left(r,t \\right)}} \\left(\\frac{\\partial}{\\partial r} a{\\left(r,t \\right)}\\right)^{2} - 0.5 r e^{a{\\left(r,t \\right)}} \\frac{\\partial}{\\partial r} a{\\left(r,t \\right)} \\frac{\\partial}{\\partial r} b{\\left(r,t \\right)} + 1.0 r e^{a{\\left(r,t \\right)}} \\frac{\\partial^{2}}{\\partial r^{2}} a{\\left(r,t \\right)} + 0.5 r e^{b{\\left(r,t \\right)}} \\frac{\\partial}{\\partial t} a{\\left(r,t \\right)} \\frac{\\partial}{\\partial t} b{\\left(r,t \\right)} - 0.5 r e^{b{\\left(r,t \\right)}} \\left(\\frac{\\partial}{\\partial t} b{\\left(r,t \\right)}\\right)^{2} - 1.0 r e^{b{\\left(r,t \\right)}} \\frac{\\partial^{2}}{\\partial t^{2}} b{\\left(r,t \\right)} + 1.0 e^{a{\\left(r,t \\right)}} \\frac{\\partial}{\\partial r} a{\\left(r,t \\right)} - 1.0 e^{a{\\left(r,t \\right)}} \\frac{\\partial}{\\partial r} b{\\left(r,t \\right)}\\right) e^{- a{\\left(r,t \\right)}} e^{- b{\\left(r,t \\right)}} & 0\\\\0 & 0 & 0 & 0.5 r \\left(0.5 r e^{a{\\left(r,t \\right)}} \\left(\\frac{\\partial}{\\partial r} a{\\left(r,t \\right)}\\right)^{2} - 0.5 r e^{a{\\left(r,t \\right)}} \\frac{\\partial}{\\partial r} a{\\left(r,t \\right)} \\frac{\\partial}{\\partial r} b{\\left(r,t \\right)} + 1.0 r e^{a{\\left(r,t \\right)}} \\frac{\\partial^{2}}{\\partial r^{2}} a{\\left(r,t \\right)} + 0.5 r e^{b{\\left(r,t \\right)}} \\frac{\\partial}{\\partial t} a{\\left(r,t \\right)} \\frac{\\partial}{\\partial t} b{\\left(r,t \\right)} - 0.5 r e^{b{\\left(r,t \\right)}} \\left(\\frac{\\partial}{\\partial t} b{\\left(r,t \\right)}\\right)^{2} - 1.0 r e^{b{\\left(r,t \\right)}} \\frac{\\partial^{2}}{\\partial t^{2}} b{\\left(r,t \\right)} + 1.0 e^{a{\\left(r,t \\right)}} \\frac{\\partial}{\\partial r} a{\\left(r,t \\right)} - 1.0 e^{a{\\left(r,t \\right)}} \\frac{\\partial}{\\partial r} b{\\left(r,t \\right)}\\right) e^{- a{\\left(r,t \\right)}} e^{- b{\\left(r,t \\right)}} \\sin^{2}{\\left(θ \\right)}\\end{matrix}\\right]$"
      ],
      "text/plain": [
       "[[1.0*(r*Derivative(b(r, t), r) + exp(b(r, t)) - 1)*exp(a(r, t))*exp(-b(r, t))/r**2, 1.0*Derivative(b(r, t), t)/r, 0, 0], [1.0*Derivative(b(r, t), t)/r, 1.0*(r*Derivative(a(r, t), r) - exp(b(r, t)) + 1)/r**2, 0, 0], [0, 0, 0.5*r*(0.5*r*exp(a(r, t))*Derivative(a(r, t), r)**2 - 0.5*r*exp(a(r, t))*Derivative(a(r, t), r)*Derivative(b(r, t), r) + 1.0*r*exp(a(r, t))*Derivative(a(r, t), (r, 2)) + 0.5*r*exp(b(r, t))*Derivative(a(r, t), t)*Derivative(b(r, t), t) - 0.5*r*exp(b(r, t))*Derivative(b(r, t), t)**2 - 1.0*r*exp(b(r, t))*Derivative(b(r, t), (t, 2)) + 1.0*exp(a(r, t))*Derivative(a(r, t), r) - 1.0*exp(a(r, t))*Derivative(b(r, t), r))*exp(-a(r, t))*exp(-b(r, t)), 0], [0, 0, 0, 0.5*r*(0.5*r*exp(a(r, t))*Derivative(a(r, t), r)**2 - 0.5*r*exp(a(r, t))*Derivative(a(r, t), r)*Derivative(b(r, t), r) + 1.0*r*exp(a(r, t))*Derivative(a(r, t), (r, 2)) + 0.5*r*exp(b(r, t))*Derivative(a(r, t), t)*Derivative(b(r, t), t) - 0.5*r*exp(b(r, t))*Derivative(b(r, t), t)**2 - 1.0*r*exp(b(r, t))*Derivative(b(r, t), (t, 2)) + 1.0*exp(a(r, t))*Derivative(a(r, t), r) - 1.0*exp(a(r, t))*Derivative(b(r, t), r))*exp(-a(r, t))*exp(-b(r, t))*sin(θ)**2]]"
      ]
     },
     "execution_count": 4,
     "metadata": {},
     "output_type": "execute_result"
    }
   ],
   "source": [
    "einstein_tensor"
   ]
  },
  {
   "cell_type": "code",
   "execution_count": null,
   "id": "7b3889f8-0336-4446-b20e-09642e8dcb84",
   "metadata": {},
   "outputs": [],
   "source": []
  }
 ],
 "metadata": {
  "kernelspec": {
   "display_name": "Python 3 (ipykernel)",
   "language": "python",
   "name": "python3"
  },
  "language_info": {
   "codemirror_mode": {
    "name": "ipython",
    "version": 3
   },
   "file_extension": ".py",
   "mimetype": "text/x-python",
   "name": "python",
   "nbconvert_exporter": "python",
   "pygments_lexer": "ipython3",
   "version": "3.11.0"
  }
 },
 "nbformat": 4,
 "nbformat_minor": 5
}
